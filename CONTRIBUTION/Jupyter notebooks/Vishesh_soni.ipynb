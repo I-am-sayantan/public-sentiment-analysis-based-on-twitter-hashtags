{
 "cells": [
  {
   "cell_type": "markdown",
   "id": "ed6fc952",
   "metadata": {},
   "source": [
    "Imports"
   ]
  },
  {
   "cell_type": "code",
   "execution_count": 11,
   "id": "f2461e1a",
   "metadata": {},
   "outputs": [],
   "source": [
    "import pandas as pd\n",
    "import re\n",
    "import nltk\n",
    "from nltk.corpus import stopwords\n",
    "from nltk.stem.porter import PorterStemmer\n",
    "from nltk.stem import WordNetLemmatizer\n",
    "from  textblob import TextBlob "
   ]
  },
  {
   "cell_type": "markdown",
   "id": "b828d9f3",
   "metadata": {},
   "source": [
    "Handling the dataset"
   ]
  },
  {
   "cell_type": "code",
   "execution_count": 12,
   "id": "f82d0356",
   "metadata": {},
   "outputs": [
    {
     "data": {
      "text/plain": [
       "(35266,)"
      ]
     },
     "execution_count": 12,
     "metadata": {},
     "output_type": "execute_result"
    }
   ],
   "source": [
    "df=pd.read_csv('dataset.csv',index_col=0)\n",
    "tweets=df['tweetcaption']\n",
    "tweets.shape"
   ]
  },
  {
   "cell_type": "code",
   "execution_count": 13,
   "id": "7ee623d9",
   "metadata": {},
   "outputs": [],
   "source": [
    "new_tweets=[tweets[i].split(',') for i in range(len(tweets))]"
   ]
  },
  {
   "cell_type": "markdown",
   "id": "ddfed7dd",
   "metadata": {},
   "source": [
    "Object"
   ]
  },
  {
   "cell_type": "code",
   "execution_count": 14,
   "id": "9d8ac2d0",
   "metadata": {},
   "outputs": [],
   "source": [
    "ps = PorterStemmer()"
   ]
  },
  {
   "cell_type": "markdown",
   "id": "89459bd0",
   "metadata": {},
   "source": [
    "Building functions"
   ]
  },
  {
   "cell_type": "code",
   "execution_count": 15,
   "id": "cd0c9207",
   "metadata": {},
   "outputs": [],
   "source": [
    "def stemming(tweet):\n",
    "    corpus = []\n",
    "    for i in range(len(tweet)):\n",
    "        review = re.sub('[^a-zA-Z]', ' ', tweet[i]) \n",
    "        review = re.sub(r'[^\\w\\s]', '', review)\n",
    "        review = review.lower()\n",
    "        review = review.split()\n",
    "\n",
    "        review = [ps.stem(word) for word in review if not word in stopwords.words('english')]\n",
    "        review = ' '.join(review)\n",
    "        corpus.append(review)\n",
    "        \n",
    "    return corpus"
   ]
  },
  {
   "cell_type": "code",
   "execution_count": 16,
   "id": "1c73d9be",
   "metadata": {},
   "outputs": [],
   "source": [
    "def polarity(tweets):\n",
    "    n=0\n",
    "    pos=0\n",
    "    neu=0\n",
    "    neg=0\n",
    "\n",
    "    for tweet in tweets:\n",
    "        n=n+1 \n",
    "        analysis=TextBlob(tweet) \n",
    "        if analysis.sentiment.polarity > 0:\n",
    "            pos=pos+1\n",
    "        elif analysis.sentiment.polarity == 0 :\n",
    "            neu=neu+1\n",
    "        else :\n",
    "            neg=neg+1\n",
    "    \n",
    "    score=[pos/n,neu/n,neg/n]\n",
    "    return score"
   ]
  },
  {
   "cell_type": "markdown",
   "id": "4c15e0e5",
   "metadata": {},
   "source": [
    "Building scores from functions"
   ]
  },
  {
   "cell_type": "code",
   "execution_count": 17,
   "id": "ecff1da0",
   "metadata": {},
   "outputs": [],
   "source": [
    "pos=[]\n",
    "neu=[]\n",
    "neg=[]\n",
    "for i in new_tweets:\n",
    "    p=stemming(i)\n",
    "    score=polarity(p)\n",
    "    pos.append(score[0])\n",
    "    neu.append(score[1])\n",
    "    neg.append(score[2])"
   ]
  },
  {
   "cell_type": "markdown",
   "id": "d462d171",
   "metadata": {},
   "source": [
    "Merging scores to dataset"
   ]
  },
  {
   "cell_type": "code",
   "execution_count": null,
   "id": "5232dbf7",
   "metadata": {},
   "outputs": [],
   "source": [
    "df['pos']=pos\n",
    "df['neu']=neu\n",
    "df['neg']=neg"
   ]
  },
  {
   "cell_type": "code",
   "execution_count": null,
   "id": "eb2bea7a",
   "metadata": {},
   "outputs": [],
   "source": [
    "#df.to_csv('new_dataset.csv')"
   ]
  }
 ],
 "metadata": {
  "kernelspec": {
   "display_name": "Python 3",
   "language": "python",
   "name": "python3"
  },
  "language_info": {
   "codemirror_mode": {
    "name": "ipython",
    "version": 3
   },
   "file_extension": ".py",
   "mimetype": "text/x-python",
   "name": "python",
   "nbconvert_exporter": "python",
   "pygments_lexer": "ipython3",
   "version": "3.8.8"
  }
 },
 "nbformat": 4,
 "nbformat_minor": 5
}
